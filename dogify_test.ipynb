{
 "cells": [
  {
   "cell_type": "code",
   "execution_count": 1,
   "metadata": {},
   "outputs": [],
   "source": [
    "from keras.models import load_model\n",
    "import matplotlib.pyplot as plt\n",
    "from os import listdir\n",
    "from os.path import isfile, join\n",
    "import numpy as np\n",
    "import cv2\n",
    "\n",
    "model = load_model('dogify_v13_in3_9533.h5')\n",
    "width = 299"
   ]
  },
  {
   "cell_type": "code",
   "execution_count": 2,
   "metadata": {},
   "outputs": [
    {
     "name": "stdout",
     "output_type": "stream",
     "text": [
      "test_accuracy : 0.9533\n"
     ]
    }
   ],
   "source": [
    "testpath = 'dataset/test/'\n",
    "testImg = [testpath+f for f in listdir(testpath) if listdir(join(testpath, f))]\n",
    "rimg = []\n",
    "x=0\n",
    "y=0\n",
    "for imagePath in (testImg):\n",
    "    for item in (os.listdir(imagePath)):\n",
    "        file = os.path.join(imagePath, item)\n",
    "        if item.split('.')[0] != \"\":\n",
    "          img = cv2.imread(file , cv2.COLOR_BGR2RGB)\n",
    "          ori = cv2.cvtColor(img, cv2.COLOR_BGR2RGB)\n",
    "          img = cv2.resize(img ,(width,width))\n",
    "          rimg = np.array(img)\n",
    "          rimg = rimg.astype('float32')\n",
    "          rimg /= 255\n",
    "          rimg = np.reshape(rimg ,(1,width,width,3))\n",
    "          predict = model.predict(rimg)\n",
    "          label = ['golden','labrador','kuvasz']\n",
    "          result = label[np.argmax(predict)]\n",
    "          #print(predict)\n",
    "          real = str(item).split(\"_\")[0]\n",
    "          # print('real:',real)\n",
    "          # print(str(result))\n",
    "          #plt.imshow(ori)\n",
    "          if real != result:\n",
    "            x+=1\n",
    "            # print(str(item))\n",
    "            # print(str(result))\n",
    "            # plt.imshow(ori)\n",
    "            #print(real,result,i)\n",
    "          y+=1\n",
    "          plt.show()\n",
    "print(\"test_accuracy :\",\"%.4f\" % ((y-x)/y))"
   ]
  }
 ],
 "metadata": {
  "interpreter": {
   "hash": "e6675a2597107b12b2b3d845526ce214c547f94d8f1c03659d97463121b9af53"
  },
  "kernelspec": {
   "display_name": "Python 3.9.1 64-bit",
   "name": "python3"
  },
  "language_info": {
   "codemirror_mode": {
    "name": "ipython",
    "version": 3
   },
   "file_extension": ".py",
   "mimetype": "text/x-python",
   "name": "python",
   "nbconvert_exporter": "python",
   "pygments_lexer": "ipython3",
   "version": "3.9.1"
  },
  "orig_nbformat": 4
 },
 "nbformat": 4,
 "nbformat_minor": 2
}
