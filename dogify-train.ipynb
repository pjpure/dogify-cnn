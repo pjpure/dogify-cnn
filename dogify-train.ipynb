{
  "cells": [
    {
      "cell_type": "markdown",
      "metadata": {
        "id": "ivjUKa-RrtD2"
      },
      "source": [
        "CNN-Image classify"
      ]
    },
    {
      "cell_type": "code",
      "execution_count": null,
      "metadata": {
        "id": "uRdUlLNepjRF"
      },
      "outputs": [],
      "source": [
        "import tensorflow as tf"
      ]
    },
    {
      "cell_type": "code",
      "execution_count": null,
      "metadata": {
        "id": "AdYjPZFFWk6h"
      },
      "outputs": [],
      "source": [
        "import numpy as np\n",
        "import cv2\n",
        "import os\n",
        "from tqdm import tqdm\n",
        "import keras\n",
        "from keras.models import Sequential\n",
        "from keras.layers import Dense, Dropout, Activation, Flatten\n",
        "from keras.layers import Conv2D, MaxPooling2D"
      ]
    },
    {
      "cell_type": "code",
      "execution_count": null,
      "metadata": {
        "id": "HAAcEz-lWxFQ"
      },
      "outputs": [],
      "source": [
        "from os import listdir\n",
        "from os.path import isfile, join\n"
      ]
    },
    {
      "cell_type": "code",
      "execution_count": null,
      "metadata": {
        "id": "sFSWG8oyWzO4"
      },
      "outputs": [],
      "source": [
        "width = 210\n",
        "num_classes = 3\n",
        "trainpath = 'dataset/train/'\n",
        "testpath = 'dataset/validation/'\n",
        "trainImg = [trainpath+f for f in listdir(trainpath) if listdir(join(trainpath, f))]\n",
        "testImg = [testpath+f for f in listdir(testpath) if listdir(join(testpath, f))]"
      ]
    },
    {
      "cell_type": "code",
      "execution_count": null,
      "metadata": {
        "colab": {
          "base_uri": "https://localhost:8080/"
        },
        "id": "6YIxrmAlC493",
        "outputId": "94b6e00a-12e5-4665-9737-f07c6f905d44"
      },
      "outputs": [],
      "source": [
        "testImg\n"
      ]
    },
    {
      "cell_type": "code",
      "execution_count": null,
      "metadata": {
        "id": "K1faSTq4XGJA"
      },
      "outputs": [],
      "source": [
        "def img2data(path):\n",
        "  rawImgs = []\n",
        "  labels = []\n",
        "  c = 0\n",
        "  for imagePath in (path):\n",
        "      for item in tqdm(os.listdir(imagePath)):\n",
        "          file = os.path.join(imagePath, item)\n",
        "          #print(file)\n",
        "          c+=1\n",
        "          l = imagePath.split('/')[2]\n",
        "          #l=l.split('/')[1]\n",
        "          if l == 'Golden':\n",
        "            labels.append([1,0,0])         \n",
        "          elif l == 'Labrador':\n",
        "            labels.append([0,1,0])\n",
        "          elif l == 'Kuvasz':\n",
        "            labels.append([0,0,1])\n",
        "            \n",
        "          if file[-1] =='g':\n",
        "            img = cv2.imread(file , cv2.COLOR_BGR2RGB)\n",
        "            img = cv2.resize(img ,(width,width))\n",
        "            rawImgs.append(img)\n",
        "  return rawImgs, labels"
      ]
    },
    {
      "cell_type": "code",
      "execution_count": null,
      "metadata": {
        "id": "2FNoyHWkNpcF"
      },
      "outputs": [],
      "source": [
        "x_train, y_train = img2data(trainImg)\n",
        "x_test, y_test = img2data(testImg)"
      ]
    },
    {
      "cell_type": "code",
      "execution_count": null,
      "metadata": {
        "id": "vgZDhbLid6uP"
      },
      "outputs": [],
      "source": [
        "x_train = np.array(x_train)\n",
        "y_train = np.array(y_train)\n",
        "x_test = np.array(x_test)\n",
        "y_test = np.array(y_test)\n",
        "x_train = x_train.astype('float32')\n",
        "x_test = x_test.astype('float32')\n",
        "x_train /= 255\n",
        "x_test /= 255"
      ]
    },
    {
      "cell_type": "code",
      "execution_count": null,
      "metadata": {
        "colab": {
          "base_uri": "https://localhost:8080/"
        },
        "id": "FICOsa4VgK2U",
        "outputId": "fea52471-3a27-4bfb-b9ce-e9ed38ba0c0d"
      },
      "outputs": [],
      "source": [
        "x_train.shape,y_train.shape,x_test.shape, y_test.shape"
      ]
    },
    {
      "cell_type": "markdown",
      "metadata": {
        "id": "sRiryBySUYyP"
      },
      "source": [
        "\n",
        "\n",
        "---\n",
        "\n",
        "\n",
        "\n",
        "---\n",
        "\n"
      ]
    },
    {
      "cell_type": "markdown",
      "metadata": {
        "id": "lmkjLM3vrqd4"
      },
      "source": [
        "Transfer learning with InceptionV3"
      ]
    },
    {
      "cell_type": "code",
      "execution_count": null,
      "metadata": {
        "id": "4HkH75jpxWFR"
      },
      "outputs": [],
      "source": [
        "from keras.models import Sequential\n",
        "from keras.models import Model\n",
        "from keras.callbacks import ModelCheckpoint, LearningRateScheduler, EarlyStopping, ReduceLROnPlateau, TensorBoard\n",
        "from keras import optimizers, losses, activations, models\n",
        "from keras.layers import Convolution2D, Dense, Input, Flatten, Dropout, MaxPooling2D, BatchNormalization, GlobalAveragePooling2D, Concatenate\n",
        "from keras import applications\n",
        "\n",
        "input_shape = (width, width, 3)\n",
        "nclass = 3\n",
        "\n",
        "base_model = tf.keras.applications.InceptionV3(weights='imagenet', \n",
        "                                include_top=False, \n",
        "                                input_shape=input_shape)\n",
        "base_model.trainable = False\n",
        "\n",
        "add_model = Sequential()\n",
        "add_model.add(base_model)\n",
        "add_model.add(GlobalAveragePooling2D())\n",
        "add_model.add(Dropout(0.5))\n",
        "# add_model.add(Dense(16))\n",
        "add_model.add(Flatten())\n",
        "add_model.add(Dense(128, \n",
        "                    activation='relu'))\n",
        "add_model.add(Dense(nclass, \n",
        "                    activation='softmax'))\n",
        "\n",
        "model = add_model"
      ]
    },
    {
      "cell_type": "code",
      "execution_count": null,
      "metadata": {
        "colab": {
          "base_uri": "https://localhost:8080/"
        },
        "id": "KVj4OMXdDHe5",
        "outputId": "aaa5975b-464e-40a9-bab4-bf3b3221266a"
      },
      "outputs": [],
      "source": [
        "model.summary()"
      ]
    },
    {
      "cell_type": "code",
      "execution_count": null,
      "metadata": {},
      "outputs": [],
      "source": [
        "model.compile(optimizer=tf.keras.optimizers.Adam(learning_rate=0.0001), loss='categorical_crossentropy'\n",
        "                , metrics= ['accuracy'], weighted_metrics=['accuracy'])\n",
        "\n",
        "batch_size = 32\n",
        "epochs = 20"
      ]
    },
    {
      "cell_type": "code",
      "execution_count": null,
      "metadata": {
        "colab": {
          "base_uri": "https://localhost:8080/"
        },
        "id": "Sj4ufi7pftQT",
        "outputId": "2912aabf-1d31-48a4-cc00-b39c265f223b"
      },
      "outputs": [],
      "source": [
        "history = model.fit(x_train, y_train ,batch_size=batch_size, epochs=epochs ,validation_data=(x_test, y_test))\n"
      ]
    },
    {
      "cell_type": "code",
      "execution_count": null,
      "metadata": {
        "colab": {
          "base_uri": "https://localhost:8080/",
          "height": 573
        },
        "id": "RBp33B6ign6p",
        "outputId": "aeb0b0a3-72b5-4980-e188-a859b182e603"
      },
      "outputs": [],
      "source": [
        "import matplotlib.pyplot as plt\n",
        "plt.plot(history.history['accuracy'])\n",
        "plt.plot(history.history['val_accuracy'])\n",
        "plt.title('model accuracy')\n",
        "plt.ylabel('accuracy')\n",
        "plt.xlabel('epoch')\n",
        "plt.legend(['train', 'validation'], loc='upper left')\n",
        "plt.show()\n",
        "# \"Loss\"\n",
        "plt.plot(history.history['loss'])\n",
        "plt.plot(history.history['val_loss'])\n",
        "plt.title('model loss')\n",
        "plt.ylabel('loss')\n",
        "plt.xlabel('epoch')\n",
        "plt.legend(['train', 'validation'], loc='upper left')\n",
        "plt.show()"
      ]
    },
    {
      "cell_type": "markdown",
      "metadata": {
        "id": "Orokv44Pr-ys"
      },
      "source": [
        "\n",
        "\n",
        "---\n",
        "\n",
        "\n",
        "\n",
        "---\n",
        "\n",
        "\n",
        "This for try out your image"
      ]
    },
    {
      "cell_type": "code",
      "execution_count": null,
      "metadata": {
        "colab": {
          "base_uri": "https://localhost:8080/",
          "height": 1000
        },
        "id": "ghL-nOBZhmsP",
        "outputId": "b46f1847-4e26-48f1-d9e1-9d980abe14eb"
      },
      "outputs": [],
      "source": [
        "testpath = 'dataset/test/'\n",
        "testImg = [testpath+f for f in listdir(testpath) if listdir(join(testpath, f))]\n",
        "rimg = []\n",
        "x=0\n",
        "y=0\n",
        "for imagePath in (testImg):\n",
        "    for item in (os.listdir(imagePath)):\n",
        "        file = os.path.join(imagePath, item)\n",
        "        if item.split('.')[0] != \"\":\n",
        "          img = cv2.imread(file , cv2.COLOR_BGR2RGB)\n",
        "          ori = cv2.cvtColor(img, cv2.COLOR_BGR2RGB)\n",
        "          img = cv2.resize(img ,(width,width))\n",
        "          rimg = np.array(img)\n",
        "          rimg = rimg.astype('float32')\n",
        "          rimg /= 255\n",
        "          rimg = np.reshape(rimg ,(1,width,width,3))\n",
        "          predict = model.predict(rimg)\n",
        "          label = ['golden','labrador','kuvasz']\n",
        "          result = label[np.argmax(predict)]\n",
        "          #print(predict)\n",
        "          real = str(item).split(\"_\")[0]\n",
        "          # print('real:',real)\n",
        "          # print(str(result))\n",
        "          #plt.imshow(ori)\n",
        "          if real != result:\n",
        "            x+=1\n",
        "            # print(str(item))\n",
        "            # print(str(result))\n",
        "            # plt.imshow(ori)\n",
        "            #print(real,result,i)\n",
        "          y+=1\n",
        "          plt.show()\n",
        "print(\"test_accuracy :\",\"%.4f\" % ((y-x)/y))\n"
      ]
    },
    {
      "cell_type": "code",
      "execution_count": null,
      "metadata": {},
      "outputs": [],
      "source": [
        "model.save(\"dogify_v12_in3_9082.h5\")"
      ]
    },
    {
      "cell_type": "code",
      "execution_count": null,
      "metadata": {},
      "outputs": [],
      "source": [
        "from keras.models import load_model\n",
        "import matplotlib.pyplot as plt\n",
        "from os import listdir\n",
        "from os.path import isfile, join\n",
        "import numpy as np\n",
        "import cv2\n",
        "\n",
        "model = load_model('dogify_v13_in3_9533.h5')\n",
        "width = 299"
      ]
    }
  ],
  "metadata": {
    "accelerator": "GPU",
    "colab": {
      "collapsed_sections": [],
      "name": "cnn_dogify.ipynb",
      "provenance": [],
      "toc_visible": true
    },
    "interpreter": {
      "hash": "e6675a2597107b12b2b3d845526ce214c547f94d8f1c03659d97463121b9af53"
    },
    "kernelspec": {
      "display_name": "Python 3.9.1 64-bit",
      "name": "python3"
    },
    "language_info": {
      "codemirror_mode": {
        "name": "ipython",
        "version": 3
      },
      "file_extension": ".py",
      "mimetype": "text/x-python",
      "name": "python",
      "nbconvert_exporter": "python",
      "pygments_lexer": "ipython3",
      "version": "3.9.1"
    }
  },
  "nbformat": 4,
  "nbformat_minor": 0
}
